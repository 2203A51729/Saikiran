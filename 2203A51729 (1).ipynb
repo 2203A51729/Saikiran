{
  "nbformat": 4,
  "nbformat_minor": 0,
  "metadata": {
    "colab": {
      "provenance": []
    },
    "kernelspec": {
      "name": "python3",
      "display_name": "Python 3"
    },
    "language_info": {
      "name": "python"
    }
  },
  "cells": [
    {
      "cell_type": "code",
      "execution_count": 2,
      "metadata": {
        "colab": {
          "base_uri": "https://localhost:8080/"
        },
        "id": "o2YOsAf0_Qlz",
        "outputId": "0050e2e9-8af4-4fc8-8ddc-7fb141edae5e"
      },
      "outputs": [
        {
          "output_type": "stream",
          "name": "stdout",
          "text": [
            "[1, 2, 3]\n"
          ]
        }
      ],
      "source": [
        "[1]\n",
        "import numpy as np\n",
        "list=[1,2,3]\n",
        "print(list)"
      ]
    },
    {
      "cell_type": "code",
      "source": [
        "[2]\n",
        "Array=np.array(list)\n",
        "print(Array)"
      ],
      "metadata": {
        "colab": {
          "base_uri": "https://localhost:8080/"
        },
        "id": "QZI_9e7f_ppX",
        "outputId": "8a20f9f8-6bdf-4075-8035-b2c8205e710c"
      },
      "execution_count": 3,
      "outputs": [
        {
          "output_type": "stream",
          "name": "stdout",
          "text": [
            "[1 2 3]\n"
          ]
        }
      ]
    },
    {
      "cell_type": "code",
      "source": [
        "[3]\n",
        "print(type(list))\n",
        "print(type(Array))"
      ],
      "metadata": {
        "colab": {
          "base_uri": "https://localhost:8080/"
        },
        "id": "eaXZZluV_sM2",
        "outputId": "b254431b-f297-4d95-9b6d-fccca3068fa7"
      },
      "execution_count": 4,
      "outputs": [
        {
          "output_type": "stream",
          "name": "stdout",
          "text": [
            "<class 'list'>\n",
            "<class 'numpy.ndarray'>\n"
          ]
        }
      ]
    },
    {
      "cell_type": "code",
      "source": [
        "[4]\n",
        "list2=[4,5,6]\n",
        "a2=np.array(list2)\n",
        "a3 = Array * a2\n",
        "print(a3)\n",
        "print(a2/Array)"
      ],
      "metadata": {
        "colab": {
          "base_uri": "https://localhost:8080/"
        },
        "id": "nXjNWsK__waV",
        "outputId": "1f887028-8994-4ddc-d6a3-84c204862558"
      },
      "execution_count": 5,
      "outputs": [
        {
          "output_type": "stream",
          "name": "stdout",
          "text": [
            "[ 4 10 18]\n",
            "[4.  2.5 2. ]\n"
          ]
        }
      ]
    },
    {
      "cell_type": "code",
      "source": [
        "[5]\n",
        "import numpy as np\n",
        "a=np.array([1,2,3,4,5])\n",
        "b=np.array([3,4,5,6,7])\n",
        "c=a+b\n",
        "print(c)"
      ],
      "metadata": {
        "colab": {
          "base_uri": "https://localhost:8080/"
        },
        "id": "AC-co354_2DW",
        "outputId": "89935def-01ba-4fe2-b568-fb2bfb7abf7e"
      },
      "execution_count": 6,
      "outputs": [
        {
          "output_type": "stream",
          "name": "stdout",
          "text": [
            "[ 4  6  8 10 12]\n"
          ]
        }
      ]
    },
    {
      "cell_type": "code",
      "source": [
        "[6]\n",
        "print(np.sin(a))\n",
        "print(np.log(a))\n",
        "print(np.log2(a))\n",
        "print(np.exp(a))"
      ],
      "metadata": {
        "id": "f781oGI5ACO2",
        "outputId": "ae410f1b-450d-431b-d5ef-48e830c8cdf8",
        "colab": {
          "base_uri": "https://localhost:8080/"
        }
      },
      "execution_count": 7,
      "outputs": [
        {
          "output_type": "stream",
          "name": "stdout",
          "text": [
            "[ 0.84147098  0.90929743  0.14112001 -0.7568025  -0.95892427]\n",
            "[0.         0.69314718 1.09861229 1.38629436 1.60943791]\n",
            "[0.         1.         1.5849625  2.         2.32192809]\n",
            "[  2.71828183   7.3890561   20.08553692  54.59815003 148.4131591 ]\n"
          ]
        }
      ]
    }
  ]
}